{
 "cells": [
  {
   "cell_type": "code",
   "execution_count": 3,
   "id": "bf87ca6f-68a4-4243-909a-391968443976",
   "metadata": {},
   "outputs": [
    {
     "name": "stdout",
     "output_type": "stream",
     "text": [
      "15\n"
     ]
    }
   ],
   "source": [
    "### *1. Sum of all numbers in a list using a for loop*\n",
    "# Sample Input: numbers = [1, 2, 3, 4, 5]\n",
    "# Sample Output: 15\n",
    "\n",
    "numbers = [1, 2, 3, 4, 5]\n",
    "total = 0\n",
    "for num in numbers:\n",
    "    total += num\n",
    "print(total)\n",
    "\n",
    "# Explanation: The for loop iterates through each element in the list, adding it to `total`.\n",
    "\n"
   ]
  },
  {
   "cell_type": "code",
   "execution_count": 5,
   "id": "6482939f-0adf-441f-b20f-ad05dd57745c",
   "metadata": {},
   "outputs": [
    {
     "name": "stdout",
     "output_type": "stream",
     "text": [
      "25\n"
     ]
    }
   ],
   "source": [
    "### *2. Exponentiation Operation*\n",
    "# Code:\n",
    "# x = 5\n",
    "# y = 2\n",
    "# print(x ** y)\n",
    "# Sample Output: 25\n",
    "\n",
    "x = 5\n",
    "y = 2\n",
    "print(x ** y)\n",
    "\n",
    "# Explanation: The `**` operator is used for exponentiation, so `5 ** 2` equals 25.\n"
   ]
  },
  {
   "cell_type": "code",
   "execution_count": 7,
   "id": "dd07d1ff-c237-462c-9312-b33870bed244",
   "metadata": {},
   "outputs": [
    {
     "name": "stdout",
     "output_type": "stream",
     "text": [
      "True\n"
     ]
    }
   ],
   "source": [
    "### *3. Palindrome Check using a While Loop*\n",
    "# Sample Input: num = 12321\n",
    "# Sample Output: True\n",
    "\n",
    "num = 12321\n",
    "original_num = num\n",
    "reverse = 0\n",
    "\n",
    "while num > 0:\n",
    "    digit = num % 10\n",
    "    reverse = reverse * 10 + digit\n",
    "    num //= 10\n",
    "\n",
    "print(reverse == original_num)\n",
    "\n",
    "# Explanation: The loop extracts digits one by one, builds the reversed number, and checks equality."
   ]
  },
  {
   "cell_type": "code",
   "execution_count": 9,
   "id": "a6fd7a4e-245a-49d7-ae68-c3640ba8a4a9",
   "metadata": {},
   "outputs": [
    {
     "name": "stdout",
     "output_type": "stream",
     "text": [
      "cherry\n"
     ]
    }
   ],
   "source": [
    "### *4. Accessing List Elements Using Negative Index*\n",
    "# Code:\n",
    "# fruits = ['apple', 'banana', 'cherry']\n",
    "# print(fruits[-1])\n",
    "# Sample Output: cherry\n",
    "\n",
    "fruits = ['apple', 'banana', 'cherry']\n",
    "print(fruits[-1])\n",
    "\n",
    "# Explanation: Negative indexing starts from the end, so `fruits[-1]` points to 'cherry'.\n"
   ]
  },
  {
   "cell_type": "code",
   "execution_count": 11,
   "id": "733239cb-372a-48d9-9097-18036d31370e",
   "metadata": {},
   "outputs": [
    {
     "name": "stdout",
     "output_type": "stream",
     "text": [
      "3.0\n"
     ]
    }
   ],
   "source": [
    "### *5. Average Calculation Using a For Loop*\n",
    "# Sample Input: numbers = [1, 2, 3, 4, 5]\n",
    "# Sample Output: 3.0\n",
    "\n",
    "numbers = [1, 2, 3, 4, 5]\n",
    "total = 0\n",
    "for num in numbers:\n",
    "    total += num\n",
    "\n",
    "average = total / len(numbers)\n",
    "print(average)\n",
    "\n",
    "# Explanation: The total is calculated and divided by the list length for the average.\n"
   ]
  },
  {
   "cell_type": "code",
   "execution_count": 13,
   "id": "01bf5479-39e0-4f9c-9bce-227b61463349",
   "metadata": {},
   "outputs": [
    {
     "name": "stdout",
     "output_type": "stream",
     "text": [
      "{'John': 90, 'Alice': 85, 'Bob': 95}\n"
     ]
    }
   ],
   "source": [
    "### *6. Creating a Dictionary with Student Names and Grades*\n",
    "# Sample Input: students = ['John', 'Alice', 'Bob'], grades = [90, 85, 95]\n",
    "# Sample Output: {'John': 90, 'Alice': 85, 'Bob': 95}\n",
    "\n",
    "students = ['John', 'Alice', 'Bob']\n",
    "grades = [90, 85, 95]\n",
    "\n",
    "student_dict = dict(zip(students, grades))\n",
    "print(student_dict)\n",
    "\n",
    "# Explanation: `zip()` combines corresponding elements, and `dict()` converts it to a dictionary.\n",
    "\n",
    "\n"
   ]
  },
  {
   "cell_type": "code",
   "execution_count": 15,
   "id": "57e392a8-81cc-4cb4-9453-28c542463e79",
   "metadata": {},
   "outputs": [
    {
     "name": "stdout",
     "output_type": "stream",
     "text": [
      "[2, 3]\n"
     ]
    }
   ],
   "source": [
    "### *7. Slicing a List*\n",
    "# Code:\n",
    "# numbers = [1, 2, 3, 4, 5]\n",
    "# print(numbers[1:3])\n",
    "# Sample Output: [2, 3]\n",
    "\n",
    "numbers = [1, 2, 3, 4, 5]\n",
    "print(numbers[1:3])\n",
    "\n",
    "# Explanation: The slice `numbers[1:3]` extracts elements from index 1 to 2 (excluding 3).\n"
   ]
  },
  {
   "cell_type": "code",
   "execution_count": 17,
   "id": "ffeea229-9d49-4b09-bc4e-da6becca36d9",
   "metadata": {},
   "outputs": [
    {
     "name": "stdout",
     "output_type": "stream",
     "text": [
      "[2, 4, 5, 6, 9]\n"
     ]
    }
   ],
   "source": [
    "### **8. Sorting a List Using sorted()**\n",
    "# Sample Input: numbers = [4, 2, 9, 6, 5]\n",
    "# Sample Output: [2, 4, 5, 6, 9]\n",
    "\n",
    "numbers = [4, 2, 9, 6, 5]\n",
    "print(sorted(numbers))\n",
    "\n",
    "# Explanation: The `sorted()` function returns a new sorted list without modifying the original list"
   ]
  },
  {
   "cell_type": "code",
   "execution_count": 19,
   "id": "dec17a61-6612-434c-8c3d-b0ebbaf376ad",
   "metadata": {},
   "outputs": [
    {
     "name": "stdout",
     "output_type": "stream",
     "text": [
      "10\n"
     ]
    }
   ],
   "source": [
    "### **9. Accessing Dictionary Values Using .get()**\n",
    "# Code:\n",
    "# fruits = {'apple': 5, 'banana': 10, 'cherry': 15}\n",
    "# print(fruits.get('banana'))\n",
    "# Sample Output: 10\n",
    "\n",
    "fruits = {'apple': 5, 'banana': 10, 'cherry': 15}\n",
    "print(fruits.get('banana'))\n",
    "\n",
    "# Explanation: The `.get()` method retrieves the value for the key 'banana'.\n"
   ]
  },
  {
   "cell_type": "code",
   "execution_count": 21,
   "id": "db0d0cbd-b85d-4b1f-8652-da92e225ddc7",
   "metadata": {},
   "outputs": [
    {
     "name": "stdout",
     "output_type": "stream",
     "text": [
      "[1, 4, 9, 16, 25, 36, 49, 64, 81, 100]\n"
     ]
    }
   ],
   "source": [
    "### *10. List Comprehension for Squares*\n",
    "# Sample Output: [1, 4, 9, 16, 25, 36, 49, 64, 81, 100]\n",
    "\n",
    "squares = [x ** 2 for x in range(1, 11)]\n",
    "print(squares)\n",
    "\n",
    "# Explanation: List comprehension generates squares from 1 to 10 efficiently.\n",
    "\n"
   ]
  },
  {
   "cell_type": "code",
   "execution_count": 23,
   "id": "1b57fc07-16a9-4a94-aa53-15aa22ca849b",
   "metadata": {},
   "outputs": [
    {
     "name": "stdout",
     "output_type": "stream",
     "text": [
      "120\n"
     ]
    }
   ],
   "source": [
    "### *11. Factorial Calculation Using Recursion*\n",
    "# Sample Input: num = 5\n",
    "# Sample Output: 120\n",
    "\n",
    "def factorial(n):\n",
    "    if n == 1:\n",
    "        return 1\n",
    "    return n * factorial(n - 1)\n",
    "\n",
    "print(factorial(5))\n",
    "\n",
    "# Explanation: The recursive function keeps calling itself until `n` reaches 1.\n",
    "\n"
   ]
  },
  {
   "cell_type": "code",
   "execution_count": 25,
   "id": "61a2c69c-b224-42dd-98fa-31fec30f5bc4",
   "metadata": {},
   "outputs": [
    {
     "name": "stdout",
     "output_type": "stream",
     "text": [
      "[5, 4, 3, 2, 1]\n"
     ]
    }
   ],
   "source": [
    "### **12. Reversing a List Using reversed()**\n",
    "# Code:\n",
    "# numbers = [1, 2, 3, 4, 5]\n",
    "# print(list(reversed(numbers)))\n",
    "# Sample Output: [5, 4, 3, 2, 1]\n",
    "\n",
    "numbers = [1, 2, 3, 4, 5]\n",
    "print(list(reversed(numbers)))\n",
    "\n",
    "# Explanation: The `reversed()` function creates a reverse iterator, converted to a list.\n"
   ]
  },
  {
   "cell_type": "code",
   "execution_count": 27,
   "id": "c2d30014-eaa2-41cf-a7b5-bcbe3fd22325",
   "metadata": {},
   "outputs": [
    {
     "name": "stdout",
     "output_type": "stream",
     "text": [
      "[0, 1, 1, 2, 3, 5, 8, 13, 21, 34]\n"
     ]
    }
   ],
   "source": [
    "### **13. Fibonacci Sequence Generator Using yield**\n",
    "# Sample Input: n = 10\n",
    "# Sample Output: [0, 1, 1, 2, 3, 5, 8, 13, 21, 34]\n",
    "\n",
    "def fibonacci(n):\n",
    "    a, b = 0, 1\n",
    "    for _ in range(n):\n",
    "        yield a\n",
    "        a, b = b, a + b\n",
    "\n",
    "print(list(fibonacci(10)))\n",
    "\n",
    "# Explanation: The `yield` keyword creates a generator for the Fibonacci sequence.\n",
    "\n"
   ]
  },
  {
   "cell_type": "code",
   "execution_count": 29,
   "id": "79a0d4fb-f3e7-487d-9f61-1e4a6cea0d02",
   "metadata": {},
   "outputs": [
    {
     "name": "stdout",
     "output_type": "stream",
     "text": [
      "3.141592653589793\n"
     ]
    }
   ],
   "source": [
    "### **14. Printing math.pi**\n",
    "# Code:\n",
    "# import math\n",
    "# print(math.pi)\n",
    "# Sample Output: 3.14159...\n",
    "\n",
    "import math\n",
    "print(math.pi)\n",
    "\n",
    "# Explanation: `math.pi` gives the value of π (pi) with high precision.\n",
    "\n"
   ]
  },
  {
   "cell_type": "code",
   "execution_count": 31,
   "id": "03b55383-64e3-44d7-bd24-b3e758cf36c3",
   "metadata": {},
   "outputs": [
    {
     "name": "stdout",
     "output_type": "stream",
     "text": [
      "*********\n",
      " *******\n",
      "  *****\n",
      "   ***\n",
      "    *\n"
     ]
    }
   ],
   "source": [
    "### *15. Inverted Star Pyramid*\n",
    "# Sample Output:\n",
    "# *********\n",
    "#  *******\n",
    "#   *****\n",
    "#    ***\n",
    "#     *\n",
    "\n",
    "rows = 5\n",
    "for i in range(rows, 0, -1):\n",
    "    print(' ' * (rows - i) + '*' * (2 * i - 1))\n",
    "\n",
    "# Explanation: The outer loop controls rows, and the inner logic adjusts spaces and stars to form the pyramid.\n",
    "\n",
    "\n"
   ]
  },
  {
   "cell_type": "code",
   "execution_count": null,
   "id": "e272902e-4647-4f54-9edd-f2d1dc3fc7ce",
   "metadata": {},
   "outputs": [],
   "source": []
  }
 ],
 "metadata": {
  "kernelspec": {
   "display_name": "Python [conda env:base] *",
   "language": "python",
   "name": "conda-base-py"
  },
  "language_info": {
   "codemirror_mode": {
    "name": "ipython",
    "version": 3
   },
   "file_extension": ".py",
   "mimetype": "text/x-python",
   "name": "python",
   "nbconvert_exporter": "python",
   "pygments_lexer": "ipython3",
   "version": "3.12.7"
  }
 },
 "nbformat": 4,
 "nbformat_minor": 5
}
